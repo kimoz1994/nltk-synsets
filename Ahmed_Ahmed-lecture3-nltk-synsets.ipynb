{
 "cells": [
  {
   "cell_type": "markdown",
   "id": "republican-trademark",
   "metadata": {},
   "source": [
    "my definitions:"
   ]
  },
  {
   "cell_type": "markdown",
   "id": "stainless-wallpaper",
   "metadata": {},
   "source": [
    "politics: is the study of the power relationship between countries."
   ]
  },
  {
   "cell_type": "markdown",
   "id": "acoustic-sweet",
   "metadata": {},
   "source": [
    "justice: is the principle that people get what they deserve"
   ]
  },
  {
   "cell_type": "markdown",
   "id": "physical-surprise",
   "metadata": {},
   "source": [
    "food: a substance that a living being requires to stay alive"
   ]
  },
  {
   "cell_type": "markdown",
   "id": "ignored-elephant",
   "metadata": {},
   "source": [
    "patience: is the quality or the capacity to tolerate delay"
   ]
  },
  {
   "cell_type": "code",
   "execution_count": 3,
   "id": "funky-secretariat",
   "metadata": {},
   "outputs": [],
   "source": [
    "#creating by words definition dictionary\n",
    "\n",
    "mydict = {\n",
    "    \n",
    "    \"politics\": \"is the study of the power relationship between countries.\",\n",
    "    \"justice\":\"s the principle that people get what they deserve\",\n",
    "    \"food\":\"a substance that a living being requires to stay alive\",\n",
    "    \"patience\":\"is the quality or the capacity to tolerate delay\"\n",
    "    \n",
    "    \n",
    "}"
   ]
  },
  {
   "cell_type": "code",
   "execution_count": 11,
   "id": "instrumental-lawyer",
   "metadata": {},
   "outputs": [
    {
     "name": "stderr",
     "output_type": "stream",
     "text": [
      "[nltk_data] Downloading package wordnet to\n",
      "[nltk_data]     C:\\Users\\hamda\\AppData\\Roaming\\nltk_data...\n",
      "[nltk_data]   Package wordnet is already up-to-date!\n"
     ]
    },
    {
     "data": {
      "text/plain": [
       "True"
      ]
     },
     "execution_count": 11,
     "metadata": {},
     "output_type": "execute_result"
    }
   ],
   "source": [
    "#importing the needed libraries\n",
    "import nltk\n",
    "nltk.download('wordnet')\n"
   ]
  },
  {
   "cell_type": "code",
   "execution_count": 22,
   "id": "capital-convert",
   "metadata": {},
   "outputs": [],
   "source": [
    "from nltk.corpus import wordnet\n",
    "from nltk.tokenize import word_tokenize\n",
    "from nltk.corpus import stopwords"
   ]
  },
  {
   "cell_type": "code",
   "execution_count": null,
   "id": "acute-maldives",
   "metadata": {},
   "outputs": [],
   "source": []
  },
  {
   "cell_type": "code",
   "execution_count": 6,
   "id": "conventional-fashion",
   "metadata": {},
   "outputs": [
    {
     "name": "stderr",
     "output_type": "stream",
     "text": [
      "[nltk_data] Downloading package stopwords to\n",
      "[nltk_data]     C:\\Users\\hamda\\AppData\\Roaming\\nltk_data...\n",
      "[nltk_data]   Package stopwords is already up-to-date!\n"
     ]
    },
    {
     "data": {
      "text/plain": [
       "True"
      ]
     },
     "execution_count": 6,
     "metadata": {},
     "output_type": "execute_result"
    }
   ],
   "source": [
    "#removing stopwords: \n",
    "\n",
    "nltk.download('stopwords')"
   ]
  },
  {
   "cell_type": "code",
   "execution_count": 23,
   "id": "organized-barrier",
   "metadata": {},
   "outputs": [],
   "source": [
    "stop_words = stopwords.words('english')\n"
   ]
  },
  {
   "cell_type": "code",
   "execution_count": 9,
   "id": "invalid-edwards",
   "metadata": {},
   "outputs": [
    {
     "name": "stderr",
     "output_type": "stream",
     "text": [
      "[nltk_data] Downloading package punkt to\n",
      "[nltk_data]     C:\\Users\\hamda\\AppData\\Roaming\\nltk_data...\n",
      "[nltk_data]   Package punkt is already up-to-date!\n"
     ]
    },
    {
     "data": {
      "text/plain": [
       "True"
      ]
     },
     "execution_count": 9,
     "metadata": {},
     "output_type": "execute_result"
    }
   ],
   "source": [
    "nltk.download('punkt')"
   ]
  },
  {
   "cell_type": "code",
   "execution_count": 13,
   "id": "fuzzy-provision",
   "metadata": {},
   "outputs": [],
   "source": [
    "#creating a function that takes in mydict and returns a list of definitions for each word\n",
    "\n",
    "\n",
    "def mydeffun(dict):\n",
    "    for key,value in dict.items():\n",
    "        print(\"the word is: \" + key)\n",
    "        print(\"my defenition of \" + key + \" is: \" + value)\n",
    "        \n",
    "        #finding definitions from nltk\n",
    "        syns = wordnet.synsets(key)\n",
    "        for i in syns:\n",
    "            nltk_definition = i.definition() \n",
    "            print(\"nltk defenition of \" + key + \" is: \" +nltk_definition)\n",
    "            \n",
    "            ##################### tokonizing, removing stopwords and comparing ###################\n",
    "            original_token = word_tokenize(value)\n",
    "            nltk_def_token = word_tokenize(nltk_definition)\n",
    "            \n",
    "            original_filtered = [w for w in original_token if not w in stop_words]\n",
    "            nltk_def_filtered = [w for w in nltk_def_token if not w in stop_words]\n",
    "            \n",
    "            overlap = []\n",
    "            overlap = [w for w in original_filtered if w in nltk_def_filtered]\n",
    "            print(\"number of matching words is : \" + str(len(overlap)))\n",
    "            \n",
    "            \n",
    "        print(\"-------------------------------------------\")\n",
    "    "
   ]
  },
  {
   "cell_type": "code",
   "execution_count": 24,
   "id": "protective-portland",
   "metadata": {},
   "outputs": [
    {
     "name": "stdout",
     "output_type": "stream",
     "text": [
      "the word is: politics\n",
      "my defenition of politics is: is the study of the power relationship between countries.\n",
      "nltk defenition of politics is: social relations involving intrigue to gain authority or power\n",
      "number of matching words is : 1\n",
      "nltk defenition of politics is: the study of government of states and other political units\n",
      "number of matching words is : 1\n",
      "nltk defenition of politics is: the profession devoted to governing and to political affairs\n",
      "number of matching words is : 0\n",
      "nltk defenition of politics is: the opinion you hold with respect to political questions\n",
      "number of matching words is : 0\n",
      "nltk defenition of politics is: the activities and affairs involved in managing a state or a government\n",
      "number of matching words is : 0\n",
      "-------------------------------------------\n",
      "the word is: justice\n",
      "my defenition of justice is: s the principle that people get what they deserve\n",
      "nltk defenition of justice is: the quality of being just or fair\n",
      "number of matching words is : 0\n",
      "nltk defenition of justice is: judgment involved in the determination of rights and the assignment of rewards and punishments\n",
      "number of matching words is : 0\n",
      "nltk defenition of justice is: a public official authorized to decide questions brought before a court of justice\n",
      "number of matching words is : 0\n",
      "nltk defenition of justice is: the United States federal department responsible for enforcing federal laws (including the enforcement of all civil rights legislation); created in 1870\n",
      "number of matching words is : 0\n",
      "-------------------------------------------\n",
      "the word is: food\n",
      "my defenition of food is: a substance that a living being requires to stay alive\n",
      "nltk defenition of food is: any substance that can be metabolized by an animal to give energy and build tissue\n",
      "number of matching words is : 1\n",
      "nltk defenition of food is: any solid substance (as opposed to liquid) that is used as a source of nourishment\n",
      "number of matching words is : 1\n",
      "nltk defenition of food is: anything that provides mental stimulus for thinking\n",
      "number of matching words is : 0\n",
      "-------------------------------------------\n",
      "the word is: patience\n",
      "my defenition of patience is: is the quality or the capacity to tolerate delay\n",
      "nltk defenition of patience is: good-natured tolerance of delay or incompetence\n",
      "number of matching words is : 1\n",
      "nltk defenition of patience is: a card game played by one person\n",
      "number of matching words is : 0\n",
      "-------------------------------------------\n"
     ]
    }
   ],
   "source": [
    "mydeffun(mydict)"
   ]
  }
 ],
 "metadata": {
  "kernelspec": {
   "display_name": "Python 3",
   "language": "python",
   "name": "python3"
  },
  "language_info": {
   "codemirror_mode": {
    "name": "ipython",
    "version": 3
   },
   "file_extension": ".py",
   "mimetype": "text/x-python",
   "name": "python",
   "nbconvert_exporter": "python",
   "pygments_lexer": "ipython3",
   "version": "3.8.8"
  }
 },
 "nbformat": 4,
 "nbformat_minor": 5
}
